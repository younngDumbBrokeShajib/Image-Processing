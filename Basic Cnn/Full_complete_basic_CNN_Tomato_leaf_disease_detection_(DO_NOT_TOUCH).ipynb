{
  "nbformat": 4,
  "nbformat_minor": 0,
  "metadata": {
    "colab": {
      "provenance": []
    },
    "kernelspec": {
      "name": "python3",
      "display_name": "Python 3"
    },
    "language_info": {
      "name": "python"
    },
    "accelerator": "GPU",
    "gpuClass": "standard"
  },
  "cells": [
    {
      "cell_type": "code",
      "source": [
        "#https://github.com/Animesh1911/Tomato-Leaf-Disease-Detection/blob/main/tomato.py\n",
        "#https://www.kaggle.com/datasets/noulam/tomato\n"
      ],
      "metadata": {
        "id": "lqyrjXCNTqY5"
      },
      "execution_count": null,
      "outputs": []
    },
    {
      "cell_type": "code",
      "source": [
        "from google.colab import files\n",
        "files.upload()  "
      ],
      "metadata": {
        "colab": {
          "base_uri": "https://localhost:8080/",
          "height": 91
        },
        "id": "ePOW5tkTPn6i",
        "outputId": "5563ab23-e90c-45ef-944c-175482f1d56a"
      },
      "execution_count": null,
      "outputs": [
        {
          "output_type": "display_data",
          "data": {
            "text/plain": [
              "<IPython.core.display.HTML object>"
            ],
            "text/html": [
              "\n",
              "     <input type=\"file\" id=\"files-32306faa-501f-4e98-8661-a872415e42d6\" name=\"files[]\" multiple disabled\n",
              "        style=\"border:none\" />\n",
              "     <output id=\"result-32306faa-501f-4e98-8661-a872415e42d6\">\n",
              "      Upload widget is only available when the cell has been executed in the\n",
              "      current browser session. Please rerun this cell to enable.\n",
              "      </output>\n",
              "      <script>// Copyright 2017 Google LLC\n",
              "//\n",
              "// Licensed under the Apache License, Version 2.0 (the \"License\");\n",
              "// you may not use this file except in compliance with the License.\n",
              "// You may obtain a copy of the License at\n",
              "//\n",
              "//      http://www.apache.org/licenses/LICENSE-2.0\n",
              "//\n",
              "// Unless required by applicable law or agreed to in writing, software\n",
              "// distributed under the License is distributed on an \"AS IS\" BASIS,\n",
              "// WITHOUT WARRANTIES OR CONDITIONS OF ANY KIND, either express or implied.\n",
              "// See the License for the specific language governing permissions and\n",
              "// limitations under the License.\n",
              "\n",
              "/**\n",
              " * @fileoverview Helpers for google.colab Python module.\n",
              " */\n",
              "(function(scope) {\n",
              "function span(text, styleAttributes = {}) {\n",
              "  const element = document.createElement('span');\n",
              "  element.textContent = text;\n",
              "  for (const key of Object.keys(styleAttributes)) {\n",
              "    element.style[key] = styleAttributes[key];\n",
              "  }\n",
              "  return element;\n",
              "}\n",
              "\n",
              "// Max number of bytes which will be uploaded at a time.\n",
              "const MAX_PAYLOAD_SIZE = 100 * 1024;\n",
              "\n",
              "function _uploadFiles(inputId, outputId) {\n",
              "  const steps = uploadFilesStep(inputId, outputId);\n",
              "  const outputElement = document.getElementById(outputId);\n",
              "  // Cache steps on the outputElement to make it available for the next call\n",
              "  // to uploadFilesContinue from Python.\n",
              "  outputElement.steps = steps;\n",
              "\n",
              "  return _uploadFilesContinue(outputId);\n",
              "}\n",
              "\n",
              "// This is roughly an async generator (not supported in the browser yet),\n",
              "// where there are multiple asynchronous steps and the Python side is going\n",
              "// to poll for completion of each step.\n",
              "// This uses a Promise to block the python side on completion of each step,\n",
              "// then passes the result of the previous step as the input to the next step.\n",
              "function _uploadFilesContinue(outputId) {\n",
              "  const outputElement = document.getElementById(outputId);\n",
              "  const steps = outputElement.steps;\n",
              "\n",
              "  const next = steps.next(outputElement.lastPromiseValue);\n",
              "  return Promise.resolve(next.value.promise).then((value) => {\n",
              "    // Cache the last promise value to make it available to the next\n",
              "    // step of the generator.\n",
              "    outputElement.lastPromiseValue = value;\n",
              "    return next.value.response;\n",
              "  });\n",
              "}\n",
              "\n",
              "/**\n",
              " * Generator function which is called between each async step of the upload\n",
              " * process.\n",
              " * @param {string} inputId Element ID of the input file picker element.\n",
              " * @param {string} outputId Element ID of the output display.\n",
              " * @return {!Iterable<!Object>} Iterable of next steps.\n",
              " */\n",
              "function* uploadFilesStep(inputId, outputId) {\n",
              "  const inputElement = document.getElementById(inputId);\n",
              "  inputElement.disabled = false;\n",
              "\n",
              "  const outputElement = document.getElementById(outputId);\n",
              "  outputElement.innerHTML = '';\n",
              "\n",
              "  const pickedPromise = new Promise((resolve) => {\n",
              "    inputElement.addEventListener('change', (e) => {\n",
              "      resolve(e.target.files);\n",
              "    });\n",
              "  });\n",
              "\n",
              "  const cancel = document.createElement('button');\n",
              "  inputElement.parentElement.appendChild(cancel);\n",
              "  cancel.textContent = 'Cancel upload';\n",
              "  const cancelPromise = new Promise((resolve) => {\n",
              "    cancel.onclick = () => {\n",
              "      resolve(null);\n",
              "    };\n",
              "  });\n",
              "\n",
              "  // Wait for the user to pick the files.\n",
              "  const files = yield {\n",
              "    promise: Promise.race([pickedPromise, cancelPromise]),\n",
              "    response: {\n",
              "      action: 'starting',\n",
              "    }\n",
              "  };\n",
              "\n",
              "  cancel.remove();\n",
              "\n",
              "  // Disable the input element since further picks are not allowed.\n",
              "  inputElement.disabled = true;\n",
              "\n",
              "  if (!files) {\n",
              "    return {\n",
              "      response: {\n",
              "        action: 'complete',\n",
              "      }\n",
              "    };\n",
              "  }\n",
              "\n",
              "  for (const file of files) {\n",
              "    const li = document.createElement('li');\n",
              "    li.append(span(file.name, {fontWeight: 'bold'}));\n",
              "    li.append(span(\n",
              "        `(${file.type || 'n/a'}) - ${file.size} bytes, ` +\n",
              "        `last modified: ${\n",
              "            file.lastModifiedDate ? file.lastModifiedDate.toLocaleDateString() :\n",
              "                                    'n/a'} - `));\n",
              "    const percent = span('0% done');\n",
              "    li.appendChild(percent);\n",
              "\n",
              "    outputElement.appendChild(li);\n",
              "\n",
              "    const fileDataPromise = new Promise((resolve) => {\n",
              "      const reader = new FileReader();\n",
              "      reader.onload = (e) => {\n",
              "        resolve(e.target.result);\n",
              "      };\n",
              "      reader.readAsArrayBuffer(file);\n",
              "    });\n",
              "    // Wait for the data to be ready.\n",
              "    let fileData = yield {\n",
              "      promise: fileDataPromise,\n",
              "      response: {\n",
              "        action: 'continue',\n",
              "      }\n",
              "    };\n",
              "\n",
              "    // Use a chunked sending to avoid message size limits. See b/62115660.\n",
              "    let position = 0;\n",
              "    do {\n",
              "      const length = Math.min(fileData.byteLength - position, MAX_PAYLOAD_SIZE);\n",
              "      const chunk = new Uint8Array(fileData, position, length);\n",
              "      position += length;\n",
              "\n",
              "      const base64 = btoa(String.fromCharCode.apply(null, chunk));\n",
              "      yield {\n",
              "        response: {\n",
              "          action: 'append',\n",
              "          file: file.name,\n",
              "          data: base64,\n",
              "        },\n",
              "      };\n",
              "\n",
              "      let percentDone = fileData.byteLength === 0 ?\n",
              "          100 :\n",
              "          Math.round((position / fileData.byteLength) * 100);\n",
              "      percent.textContent = `${percentDone}% done`;\n",
              "\n",
              "    } while (position < fileData.byteLength);\n",
              "  }\n",
              "\n",
              "  // All done.\n",
              "  yield {\n",
              "    response: {\n",
              "      action: 'complete',\n",
              "    }\n",
              "  };\n",
              "}\n",
              "\n",
              "scope.google = scope.google || {};\n",
              "scope.google.colab = scope.google.colab || {};\n",
              "scope.google.colab._files = {\n",
              "  _uploadFiles,\n",
              "  _uploadFilesContinue,\n",
              "};\n",
              "})(self);\n",
              "</script> "
            ]
          },
          "metadata": {}
        },
        {
          "output_type": "stream",
          "name": "stdout",
          "text": [
            "Saving kaggle.json to kaggle.json\n"
          ]
        },
        {
          "output_type": "execute_result",
          "data": {
            "text/plain": [
              "{'kaggle.json': b'{\"username\":\"mdshajibhossain\",\"key\":\"945ab62fe216ca33495dd8f316cc1106\"}'}"
            ]
          },
          "metadata": {},
          "execution_count": 3
        }
      ]
    },
    {
      "cell_type": "code",
      "source": [
        "!rm -r ~/.kaggle\n",
        "!mkdir ~/.kaggle\n",
        "!mv ./kaggle.json ~/.kaggle/\n",
        "!chmod 600 ~/.kaggle/kaggle.json"
      ],
      "metadata": {
        "id": "Nzv9DzdOPqyE"
      },
      "execution_count": null,
      "outputs": []
    },
    {
      "cell_type": "code",
      "source": [
        "#dataset - \n",
        "\n",
        "!kaggle datasets download -d noulam/tomato --unzip"
      ],
      "metadata": {
        "colab": {
          "base_uri": "https://localhost:8080/"
        },
        "id": "Ot1bml79PrAM",
        "outputId": "95f8ca2d-33bb-4401-acbc-6e5ab1e8d949"
      },
      "execution_count": null,
      "outputs": [
        {
          "output_type": "stream",
          "name": "stdout",
          "text": [
            "Downloading tomato.zip to /content\n",
            "100% 743M/743M [00:23<00:00, 40.5MB/s]\n",
            "100% 743M/743M [00:23<00:00, 33.5MB/s]\n"
          ]
        }
      ]
    },
    {
      "cell_type": "code",
      "execution_count": null,
      "metadata": {
        "id": "3aTUZHOvPEKk"
      },
      "outputs": [],
      "source": [
        "import pandas as pd\n",
        "import cv2 as cv\n",
        "import numpy as np\n",
        "import matplotlib.pyplot as plt\n",
        "import os\n",
        "import seaborn as sns"
      ]
    },
    {
      "cell_type": "code",
      "source": [
        "DATASET=\"/content/New Plant Diseases Dataset(Augmented)/train\"   #path to train\n",
        "DATASET2=\"/content/New Plant Diseases Dataset(Augmented)/valid\"  #path to valid"
      ],
      "metadata": {
        "id": "etPclMgOQMOZ"
      },
      "execution_count": null,
      "outputs": []
    },
    {
      "cell_type": "code",
      "source": [
        "CATEGORIES=[\"Tomato___Bacterial_spot\",\"Tomato___Early_blight\",\"Tomato___healthy\",\"Tomato___Late_blight\",\n",
        "            \"Tomato___Leaf_Mold\",\"Tomato___Septoria_leaf_spot\",\"Tomato___Spider_mites Two-spotted_spider_mite\",\n",
        "            \"Tomato___Target_Spot\",\"Tomato___Tomato_mosaic_virus\",\"Tomato___Tomato_Yellow_Leaf_Curl_Virus\"]"
      ],
      "metadata": {
        "id": "5EaK7Y-9QWI1"
      },
      "execution_count": null,
      "outputs": []
    },
    {
      "cell_type": "code",
      "source": [
        "train_data=[]\n",
        "\n",
        "for category in CATEGORIES:\n",
        "        label=CATEGORIES.index(category)\n",
        "        path=os.path.join(DATASET,category)\n",
        "        for img_file in os.listdir(path):\n",
        "            img=cv.imread(os.path.join(path,img_file),1)\n",
        "            img=cv.cvtColor(img,cv.COLOR_BGR2RGB)\n",
        "            img=cv.resize(img,(64,64))            \n",
        "            train_data.append([img,label])"
      ],
      "metadata": {
        "id": "BqOKP_CVQaOY"
      },
      "execution_count": null,
      "outputs": []
    },
    {
      "cell_type": "code",
      "source": [
        "print(train_data[1][1])"
      ],
      "metadata": {
        "colab": {
          "base_uri": "https://localhost:8080/"
        },
        "id": "XaB4lxAjLtLb",
        "outputId": "f24dc236-3e6d-45fd-ffbc-66ea85bed88f"
      },
      "execution_count": null,
      "outputs": [
        {
          "output_type": "stream",
          "name": "stdout",
          "text": [
            "0\n"
          ]
        }
      ]
    },
    {
      "cell_type": "code",
      "source": [
        "test_data=[]\n",
        "\n",
        "for category in CATEGORIES:\n",
        "        label=CATEGORIES.index(category)\n",
        "        path=os.path.join(DATASET2,category)\n",
        "        for img_file in os.listdir(path):\n",
        "            img=cv.imread(os.path.join(path,img_file),1)\n",
        "            img=cv.cvtColor(img,cv.COLOR_BGR2RGB)\n",
        "            img=cv.resize(img,(64,64))\n",
        "            test_data.append([img,label])"
      ],
      "metadata": {
        "id": "p2qc_tUgQd63"
      },
      "execution_count": null,
      "outputs": []
    },
    {
      "cell_type": "code",
      "source": [
        "print(len(train_data))\n",
        "print(len(test_data))\n"
      ],
      "metadata": {
        "colab": {
          "base_uri": "https://localhost:8080/"
        },
        "id": "JKffWSLyRF3h",
        "outputId": "4cbc9fd2-4e76-43ec-9e70-ab40e55778e9"
      },
      "execution_count": null,
      "outputs": [
        {
          "output_type": "stream",
          "name": "stdout",
          "text": [
            "18345\n",
            "4585\n"
          ]
        }
      ]
    },
    {
      "cell_type": "code",
      "source": [
        "import random\n",
        "\n",
        "random.shuffle(train_data)\n",
        "random.shuffle(test_data)"
      ],
      "metadata": {
        "id": "GjN5X0TyRK6o"
      },
      "execution_count": null,
      "outputs": []
    },
    {
      "cell_type": "code",
      "source": [
        "for lbl in train_data[:10]:\n",
        "    print(lbl[1])"
      ],
      "metadata": {
        "colab": {
          "base_uri": "https://localhost:8080/"
        },
        "id": "Xj687IkhRNaa",
        "outputId": "8b52552c-a993-4d2d-8156-a359f00170cd"
      },
      "execution_count": null,
      "outputs": [
        {
          "output_type": "stream",
          "name": "stdout",
          "text": [
            "7\n",
            "4\n",
            "0\n",
            "0\n",
            "8\n",
            "8\n",
            "4\n",
            "1\n",
            "1\n",
            "2\n"
          ]
        }
      ]
    },
    {
      "cell_type": "code",
      "source": [
        "X_train=[]\n",
        "y_train=[]\n",
        "\n",
        "for features,label in train_data:\n",
        "    X_train.append(features)\n",
        "    y_train.append(label)\n"
      ],
      "metadata": {
        "id": "eIe8I3gwRS83"
      },
      "execution_count": null,
      "outputs": []
    },
    {
      "cell_type": "code",
      "source": [
        "Y=[]\n",
        "for i in y_train:\n",
        "    if i==0:\n",
        "        Y.append(\"BACTERIAL SPOT\")\n",
        "    elif i==1:\n",
        "        Y.append(\"EARLY BLIGHT\")\n",
        "    elif i==2:\n",
        "        Y.append(\"HEALTHY\")\n",
        "    elif i==3:\n",
        "        Y.append(\"LATE BLIGHT\")\n",
        "    elif i==4:\n",
        "        Y.append(\"LEAF MOLD\")\n",
        "    elif i==5:\n",
        "        Y.append(\"SEPTORIA LEAF SPOT\")\n",
        "    elif i==6:\n",
        "        Y.append(\"SPIDER MITE\")\n",
        "    elif i==7:\n",
        "        Y.append(\"TARGET SPOT\")\n",
        "    elif i==8:\n",
        "        Y.append(\"MOSAIC VIRUS\")\n",
        "    else:\n",
        "        Y.append(\"YELLOW LEAF CURL VIRUS\")\n",
        "\n",
        "len(X_train),len(y_train)"
      ],
      "metadata": {
        "colab": {
          "base_uri": "https://localhost:8080/"
        },
        "id": "vGNn2PuLRT3s",
        "outputId": "91ffee57-f4a4-472d-fe5f-ca55b2b65440"
      },
      "execution_count": null,
      "outputs": [
        {
          "output_type": "execute_result",
          "data": {
            "text/plain": [
              "(18345, 18345)"
            ]
          },
          "metadata": {},
          "execution_count": 16
        }
      ]
    },
    {
      "cell_type": "code",
      "source": [
        "X_test=[]\n",
        "y_test=[]\n",
        "\n",
        "for features,label in test_data:\n",
        "    X_test.append(features)\n",
        "    y_test.append(label)\n"
      ],
      "metadata": {
        "id": "C_PUzshjRZK6"
      },
      "execution_count": null,
      "outputs": []
    },
    {
      "cell_type": "code",
      "source": [
        "Z=[]\n",
        "for i in y_test:\n",
        "    if i==0:\n",
        "        Z.append(\"BACTERIAL SPOT\")\n",
        "    elif i==1:\n",
        "        Z.append(\"EARLY BLIGHT\")\n",
        "    elif i==2:\n",
        "        Z.append(\"HEALTHY\")\n",
        "    elif i==3:\n",
        "        Z.append(\"LATE BLIGHT\")\n",
        "    elif i==4:\n",
        "        Z.append(\"LEAF MOLD\")\n",
        "    elif i==5:\n",
        "        Z.append(\"SEPTORIA LEAF SPOT\")\n",
        "    elif i==6:\n",
        "        Z.append(\"SPIDER MITE\")\n",
        "    elif i==7:\n",
        "        Z.append(\"TARGET SPOT\")\n",
        "    elif i==8:\n",
        "        Z.append(\"MOSAIC VIRUS\")\n",
        "    else:\n",
        "        Z.append(\"YELLOW LEAF CURL VIRUS\")\n",
        "\n",
        "len(X_test),len(y_test)"
      ],
      "metadata": {
        "colab": {
          "base_uri": "https://localhost:8080/"
        },
        "id": "w9pDchIFReew",
        "outputId": "51ea3961-4383-4f55-e563-fd1a1dfae8f0"
      },
      "execution_count": null,
      "outputs": [
        {
          "output_type": "execute_result",
          "data": {
            "text/plain": [
              "(4585, 4585)"
            ]
          },
          "metadata": {},
          "execution_count": 18
        }
      ]
    },
    {
      "cell_type": "code",
      "source": [
        "X_train=np.array(X_train).reshape(-1,64,64,3)\n",
        "X_train=X_train/255.0\n",
        "X_train.shape"
      ],
      "metadata": {
        "colab": {
          "base_uri": "https://localhost:8080/"
        },
        "id": "q-wNAxGDRmo4",
        "outputId": "0afd2c84-9640-44f1-bf67-9a90abcd2ad4"
      },
      "execution_count": null,
      "outputs": [
        {
          "output_type": "execute_result",
          "data": {
            "text/plain": [
              "(18345, 64, 64, 3)"
            ]
          },
          "metadata": {},
          "execution_count": 19
        }
      ]
    },
    {
      "cell_type": "code",
      "source": [
        "X_test=np.array(X_test).reshape(-1,64,64,3)\n",
        "X_test=X_test/255.0\n",
        "X_test.shape"
      ],
      "metadata": {
        "colab": {
          "base_uri": "https://localhost:8080/"
        },
        "id": "-G52znnORpKp",
        "outputId": "bfc21ca3-cf85-44c3-970f-124050c404e1"
      },
      "execution_count": null,
      "outputs": [
        {
          "output_type": "execute_result",
          "data": {
            "text/plain": [
              "(4585, 64, 64, 3)"
            ]
          },
          "metadata": {},
          "execution_count": 20
        }
      ]
    },
    {
      "cell_type": "code",
      "source": [
        "order=['BACTERIAL SPOT','EARLY BLIGHT','HEALTHY','LATE BLIGHT','LEAF MOLD',\n",
        "       'SEPTORIA LEAF SPOT','SPIDER MITE','TARGET SPOT','MOSAIC VIRUS','YELLOW LEAF CURL VIRUS']"
      ],
      "metadata": {
        "id": "XZ6L3GBtRsDq"
      },
      "execution_count": null,
      "outputs": []
    },
    {
      "cell_type": "code",
      "source": [
        "ax=sns.countplot(Y, order=order)\n",
        "ax.set_xlabel(\"Leaf Diseases\")\n",
        "ax.set_xticklabels(ax.get_xticklabels(), rotation=40, ha='right')\n",
        "ax.set_ylabel(\"Image Count\")\n"
      ],
      "metadata": {
        "colab": {
          "base_uri": "https://localhost:8080/",
          "height": 434
        },
        "id": "E_npZ0ILRwCg",
        "outputId": "7080335a-8084-4451-f3cd-e60d8b362625"
      },
      "execution_count": null,
      "outputs": [
        {
          "output_type": "stream",
          "name": "stderr",
          "text": [
            "/usr/local/lib/python3.8/dist-packages/seaborn/_decorators.py:36: FutureWarning: Pass the following variable as a keyword arg: x. From version 0.12, the only valid positional argument will be `data`, and passing other arguments without an explicit keyword will result in an error or misinterpretation.\n",
            "  warnings.warn(\n"
          ]
        },
        {
          "output_type": "execute_result",
          "data": {
            "text/plain": [
              "Text(0, 0.5, 'Image Count')"
            ]
          },
          "metadata": {},
          "execution_count": 22
        },
        {
          "output_type": "display_data",
          "data": {
            "text/plain": [
              "<Figure size 432x288 with 1 Axes>"
            ],
            "image/png": "[encoded data removed]"
          },
          "metadata": {
            "needs_background": "light"
          }
        }
      ]
    },
    {
      "cell_type": "code",
      "source": [
        "ax=sns.countplot(Z, order=order)\n",
        "ax.set_xlabel(\"Leaf Diseases\")\n",
        "ax.set_xticklabels(ax.get_xticklabels(), rotation=40, ha='right')\n",
        "ax.set_ylabel(\"Image Count\")"
      ],
      "metadata": {
        "colab": {
          "base_uri": "https://localhost:8080/",
          "height": 434
        },
        "id": "_mZrKa0ORzi4",
        "outputId": "c4db70e5-2e08-4c9d-a9c9-34a09a2b30fa"
      },
      "execution_count": null,
      "outputs": [
        {
          "output_type": "stream",
          "name": "stderr",
          "text": [
            "/usr/local/lib/python3.8/dist-packages/seaborn/_decorators.py:36: FutureWarning: Pass the following variable as a keyword arg: x. From version 0.12, the only valid positional argument will be `data`, and passing other arguments without an explicit keyword will result in an error or misinterpretation.\n",
            "  warnings.warn(\n"
          ]
        },
        {
          "output_type": "execute_result",
          "data": {
            "text/plain": [
              "Text(0, 0.5, 'Image Count')"
            ]
          },
          "metadata": {},
          "execution_count": 23
        },
        {
          "output_type": "display_data",
          "data": {
            "text/plain": [
              "<Figure size 432x288 with 1 Axes>"
            ],
            "image/png": "[encoded data removed]"
          },
          "metadata": {
            "needs_background": "light"
          }
        }
      ]
    },
    {
      "cell_type": "code",
      "source": [
        "from keras.utils import to_categorical\n",
        "from tensorflow.keras.models import Sequential\n",
        "from tensorflow.keras.layers import Conv2D,Dense,Flatten,MaxPooling2D,Dropout\n"
      ],
      "metadata": {
        "id": "rz4kIegXR8T0"
      },
      "execution_count": null,
      "outputs": []
    },
    {
      "cell_type": "code",
      "source": [
        "one_hot_train=to_categorical(y_train)\n",
        "one_hot_train\n",
        "\n",
        "one_hot_test=to_categorical(y_test)\n",
        "one_hot_test\n",
        "# y_test"
      ],
      "metadata": {
        "colab": {
          "base_uri": "https://localhost:8080/"
        },
        "id": "1wKwmz_TSABb",
        "outputId": "0a2a1eaa-9096-4920-851a-99caba1617b9"
      },
      "execution_count": null,
      "outputs": [
        {
          "output_type": "execute_result",
          "data": {
            "text/plain": [
              "array([[0., 0., 1., ..., 0., 0., 0.],\n",
              "       [0., 0., 0., ..., 0., 0., 0.],\n",
              "       [0., 0., 0., ..., 0., 0., 1.],\n",
              "       ...,\n",
              "       [1., 0., 0., ..., 0., 0., 0.],\n",
              "       [0., 0., 0., ..., 0., 1., 0.],\n",
              "       [1., 0., 0., ..., 0., 0., 0.]], dtype=float32)"
            ]
          },
          "metadata": {},
          "execution_count": 25
        }
      ]
    },
    {
      "cell_type": "code",
      "source": [
        "classifier=Sequential()\n",
        "\n",
        "classifier.add(Conv2D(32,(3,3), input_shape=(64,64,3), activation='relu'))\n",
        "classifier.add(MaxPooling2D(pool_size=(2,2)))\n",
        "classifier.add(Dropout(0.2))\n",
        "\n",
        "classifier.add(Conv2D(64,(3,3), activation='relu'))\n",
        "classifier.add(MaxPooling2D(pool_size=(2,2)))\n",
        "classifier.add(Dropout(0.2))\n",
        "\n",
        "classifier.add(Conv2D(128,(3,3), activation='relu'))\n",
        "classifier.add(MaxPooling2D(pool_size=(2,2)))\n",
        "classifier.add(Dropout(0.4))\n",
        "\n",
        "classifier.add(Flatten())\n",
        "\n",
        "classifier.add(Dense(activation='relu', units=64))\n",
        "classifier.add(Dense(activation='relu', units=128))\n",
        "classifier.add(Dense(activation='relu', units=64))\n",
        "classifier.add(Dense(activation='softmax', units=10))\n"
      ],
      "metadata": {
        "id": "ojnJSEa0SEIU"
      },
      "execution_count": null,
      "outputs": []
    },
    {
      "cell_type": "code",
      "source": [
        "classifier.compile(optimizer='adam', loss='categorical_crossentropy', metrics=['accuracy'])"
      ],
      "metadata": {
        "id": "7CefoqTRSGeM"
      },
      "execution_count": null,
      "outputs": []
    },
    {
      "cell_type": "code",
      "source": [
        "classifier.summary()"
      ],
      "metadata": {
        "colab": {
          "base_uri": "https://localhost:8080/"
        },
        "id": "VQZ7TeYtSICk",
        "outputId": "dc45003b-5921-4065-f204-bda7aa784aac"
      },
      "execution_count": null,
      "outputs": [
        {
          "output_type": "stream",
          "name": "stdout",
          "text": [
            "Model: \"sequential\"\n",
            "_________________________________________________________________\n",
            " Layer (type)                Output Shape              Param #   \n",
            "=================================================================\n",
            " conv2d (Conv2D)             (None, 62, 62, 32)        896       \n",
            "                                                                 \n",
            " max_pooling2d (MaxPooling2D  (None, 31, 31, 32)       0         \n",
            " )                                                               \n",
            "                                                                 \n",
            " dropout (Dropout)           (None, 31, 31, 32)        0         \n",
            "                                                                 \n",
            " conv2d_1 (Conv2D)           (None, 29, 29, 64)        18496     \n",
            "                                                                 \n",
            " max_pooling2d_1 (MaxPooling  (None, 14, 14, 64)       0         \n",
            " 2D)                                                             \n",
            "                                                                 \n",
            " dropout_1 (Dropout)         (None, 14, 14, 64)        0         \n",
            "                                                                 \n",
            " conv2d_2 (Conv2D)           (None, 12, 12, 128)       73856     \n",
            "                                                                 \n",
            " max_pooling2d_2 (MaxPooling  (None, 6, 6, 128)        0         \n",
            " 2D)                                                             \n",
            "                                                                 \n",
            " dropout_2 (Dropout)         (None, 6, 6, 128)         0         \n",
            "                                                                 \n",
            " flatten (Flatten)           (None, 4608)              0         \n",
            "                                                                 \n",
            " dense (Dense)               (None, 64)                294976    \n",
            "                                                                 \n",
            " dense_1 (Dense)             (None, 128)               8320      \n",
            "                                                                 \n",
            " dense_2 (Dense)             (None, 64)                8256      \n",
            "                                                                 \n",
            " dense_3 (Dense)             (None, 10)                650       \n",
            "                                                                 \n",
            "=================================================================\n",
            "Total params: 405,450\n",
            "Trainable params: 405,450\n",
            "Non-trainable params: 0\n",
            "_________________________________________________________________\n"
          ]
        }
      ]
    },
    {
      "cell_type": "code",
      "source": [
        "hist=classifier.fit(X_train,one_hot_train,epochs=10,batch_size=128,validation_split=0.2)"
      ],
      "metadata": {
        "colab": {
          "base_uri": "https://localhost:8080/"
        },
        "id": "rInjsZzMSM_J",
        "outputId": "304f7249-836f-40fa-f919-f094e9ade056"
      },
      "execution_count": null,
      "outputs": [
        {
          "output_type": "stream",
          "name": "stdout",
          "text": [
            "Epoch 1/10\n",
            "115/115 [==============================] - 12s 27ms/step - loss: 1.9262 - accuracy: 0.2917 - val_loss: 1.4905 - val_accuracy: 0.4729\n",
            "Epoch 2/10\n",
            "115/115 [==============================] - 2s 22ms/step - loss: 1.1376 - accuracy: 0.6049 - val_loss: 0.8685 - val_accuracy: 0.7002\n",
            "Epoch 3/10\n",
            "115/115 [==============================] - 3s 22ms/step - loss: 0.7866 - accuracy: 0.7233 - val_loss: 0.6507 - val_accuracy: 0.7817\n",
            "Epoch 4/10\n",
            "115/115 [==============================] - 2s 22ms/step - loss: 0.5960 - accuracy: 0.7893 - val_loss: 0.5931 - val_accuracy: 0.7850\n",
            "Epoch 5/10\n",
            "115/115 [==============================] - 2s 21ms/step - loss: 0.4814 - accuracy: 0.8283 - val_loss: 0.4927 - val_accuracy: 0.8302\n",
            "Epoch 6/10\n",
            "115/115 [==============================] - 2s 21ms/step - loss: 0.4312 - accuracy: 0.8481 - val_loss: 0.4079 - val_accuracy: 0.8615\n",
            "Epoch 7/10\n",
            "115/115 [==============================] - 2s 22ms/step - loss: 0.3663 - accuracy: 0.8717 - val_loss: 0.3330 - val_accuracy: 0.8877\n",
            "Epoch 8/10\n",
            "115/115 [==============================] - 2s 22ms/step - loss: 0.3254 - accuracy: 0.8883 - val_loss: 0.3163 - val_accuracy: 0.8891\n",
            "Epoch 9/10\n",
            "115/115 [==============================] - 3s 22ms/step - loss: 0.2912 - accuracy: 0.8981 - val_loss: 0.3341 - val_accuracy: 0.8814\n",
            "Epoch 10/10\n",
            "115/115 [==============================] - 3s 22ms/step - loss: 0.2883 - accuracy: 0.8983 - val_loss: 0.2658 - val_accuracy: 0.9090\n"
          ]
        }
      ]
    },
    {
      "cell_type": "code",
      "source": [
        "test_loss,test_acc=classifier.evaluate(X_test,one_hot_test)\n",
        "test_loss,test_acc"
      ],
      "metadata": {
        "colab": {
          "base_uri": "https://localhost:8080/"
        },
        "id": "H_4qOQLISWg3",
        "outputId": "2a741d83-2ef3-47f5-9745-44c93b4319aa"
      },
      "execution_count": null,
      "outputs": [
        {
          "output_type": "stream",
          "name": "stdout",
          "text": [
            "144/144 [==============================] - 1s 7ms/step - loss: 0.2588 - accuracy: 0.9088\n"
          ]
        },
        {
          "output_type": "execute_result",
          "data": {
            "text/plain": [
              "(0.25878703594207764, 0.9088331460952759)"
            ]
          },
          "metadata": {},
          "execution_count": 30
        }
      ]
    },
    {
      "cell_type": "code",
      "source": [
        "plt.plot(hist.history['loss'])\n",
        "plt.plot(hist.history['val_loss'])\n",
        "plt.title('Classifier Loss')\n",
        "plt.ylabel('Loss')\n",
        "plt.xlabel('Epoch')\n",
        "plt.legend(['Train','Validation'],loc='upper right')\n",
        "plt.show()"
      ],
      "metadata": {
        "colab": {
          "base_uri": "https://localhost:8080/",
          "height": 295
        },
        "id": "b7OSVL86SYY2",
        "outputId": "8b82f4f4-8641-4eb7-e257-818b8c18bf57"
      },
      "execution_count": null,
      "outputs": [
        {
          "output_type": "display_data",
          "data": {
            "text/plain": [
              "<Figure size 432x288 with 1 Axes>"
            ],
            "image/png": "[encoded data removed]"
          },
          "metadata": {
            "needs_background": "light"
          }
        }
      ]
    },
    {
      "cell_type": "code",
      "source": [
        "plt.plot(hist.history['accuracy'])\n",
        "plt.plot(hist.history['val_accuracy'])\n",
        "plt.title('Classifier Accuracy')\n",
        "plt.ylabel('Accuracy')\n",
        "plt.xlabel('Epoch')\n",
        "plt.legend(['Train','Validation'],loc='upper left')\n",
        "plt.show()"
      ],
      "metadata": {
        "colab": {
          "base_uri": "https://localhost:8080/",
          "height": 295
        },
        "id": "EqrjoSKWSaTn",
        "outputId": "49042a39-5990-4232-9ad0-b8394056867d"
      },
      "execution_count": null,
      "outputs": [
        {
          "output_type": "display_data",
          "data": {
            "text/plain": [
              "<Figure size 432x288 with 1 Axes>"
            ],
            "image/png": "[encoded data removed]"
          },
          "metadata": {
            "needs_background": "light"
          }
        }
      ]
    },
    {
      "cell_type": "markdown",
      "source": [
        "# Classification Report\n"
      ],
      "metadata": {
        "id": "N8X3EX39XN7t"
      }
    },
    {
      "cell_type": "code",
      "source": [
        "from sklearn.metrics import confusion_matrix\n",
        "from sklearn.metrics import classification_report\n"
      ],
      "metadata": {
        "id": "UofzafjzxfMg"
      },
      "execution_count": null,
      "outputs": []
    },
    {
      "cell_type": "code",
      "source": [
        "pred_ran=classifier.predict(X_test)\n"
      ],
      "metadata": {
        "colab": {
          "base_uri": "https://localhost:8080/"
        },
        "id": "IcGqIXx1XcCP",
        "outputId": "6a4c09ab-dbfc-4c28-cf88-88d7360111d8"
      },
      "execution_count": null,
      "outputs": [
        {
          "output_type": "stream",
          "name": "stdout",
          "text": [
            "144/144 [==============================] - 1s 3ms/step\n"
          ]
        }
      ]
    },
    {
      "cell_type": "code",
      "source": [
        "pred_ran.shape\n"
      ],
      "metadata": {
        "colab": {
          "base_uri": "https://localhost:8080/"
        },
        "id": "qgPl4RwtXeSv",
        "outputId": "2409edff-3b64-4d2e-90ef-c15312055b2f"
      },
      "execution_count": null,
      "outputs": [
        {
          "output_type": "execute_result",
          "data": {
            "text/plain": [
              "(4585, 10)"
            ]
          },
          "metadata": {},
          "execution_count": 35
        }
      ]
    },
    {
      "cell_type": "code",
      "source": [
        "print(one_hot_test)\n"
      ],
      "metadata": {
        "colab": {
          "base_uri": "https://localhost:8080/"
        },
        "id": "Kw6A1UeqXhCn",
        "outputId": "808ae835-6807-4b36-dd49-2fc15bd2256e"
      },
      "execution_count": null,
      "outputs": [
        {
          "output_type": "stream",
          "name": "stdout",
          "text": [
            "[[0. 0. 1. ... 0. 0. 0.]\n",
            " [0. 0. 0. ... 0. 0. 0.]\n",
            " [0. 0. 0. ... 0. 0. 1.]\n",
            " ...\n",
            " [1. 0. 0. ... 0. 0. 0.]\n",
            " [0. 0. 0. ... 0. 1. 0.]\n",
            " [1. 0. 0. ... 0. 0. 0.]]\n"
          ]
        }
      ]
    },
    {
      "cell_type": "code",
      "source": [
        "print(pred_ran)\n",
        "\n"
      ],
      "metadata": {
        "colab": {
          "base_uri": "https://localhost:8080/"
        },
        "id": "erE8G_EhXmBO",
        "outputId": "6033d796-e1b7-4293-e27b-3400efed0723"
      },
      "execution_count": null,
      "outputs": [
        {
          "output_type": "stream",
          "name": "stdout",
          "text": [
            "[[4.07419720e-04 2.34026393e-05 9.98675048e-01 ... 2.03085547e-05\n",
            "  2.20566392e-08 2.10614303e-06]\n",
            " [2.92242736e-01 3.48360452e-04 1.20146988e-05 ... 5.08309528e-03\n",
            "  7.61719321e-06 1.92970470e-01]\n",
            " [1.77089496e-05 4.20940254e-04 3.99829636e-09 ... 3.53362666e-05\n",
            "  2.01198986e-08 9.96592700e-01]\n",
            " ...\n",
            " [9.87805724e-01 4.21049725e-03 1.06763500e-05 ... 6.85785804e-03\n",
            "  1.12056275e-08 3.41905281e-04]\n",
            " [1.63935920e-10 1.13956194e-04 3.31476963e-06 ... 1.30131701e-03\n",
            "  9.98056591e-01 8.95007446e-08]\n",
            " [9.99137878e-01 5.88235562e-04 9.75269700e-07 ... 9.69650227e-06\n",
            "  1.29682998e-09 2.10822382e-05]]\n"
          ]
        }
      ]
    },
    {
      "cell_type": "code",
      "source": [
        "pred_ran=(pred_ran>0.5)\n"
      ],
      "metadata": {
        "id": "fR1-nwKHXpWn"
      },
      "execution_count": null,
      "outputs": []
    },
    {
      "cell_type": "code",
      "source": [
        "print(order)\n"
      ],
      "metadata": {
        "colab": {
          "base_uri": "https://localhost:8080/"
        },
        "id": "K16eLtwkXsum",
        "outputId": "47d318d5-a170-4661-8a74-b9e2cdc1092b"
      },
      "execution_count": null,
      "outputs": [
        {
          "output_type": "stream",
          "name": "stdout",
          "text": [
            "['BACTERIAL SPOT', 'EARLY BLIGHT', 'HEALTHY', 'LATE BLIGHT', 'LEAF MOLD', 'SEPTORIA LEAF SPOT', 'SPIDER MITE', 'TARGET SPOT', 'MOSAIC VIRUS', 'YELLOW LEAF CURL VIRUS']\n"
          ]
        }
      ]
    },
    {
      "cell_type": "code",
      "source": [
        "print(classification_report(one_hot_test,pred_ran,target_names=order))\n"
      ],
      "metadata": {
        "colab": {
          "base_uri": "https://localhost:8080/"
        },
        "id": "5NdrHBuyXwU-",
        "outputId": "3114d514-dacf-4a1b-d727-1a8a89aa9b9e"
      },
      "execution_count": null,
      "outputs": [
        {
          "output_type": "stream",
          "name": "stdout",
          "text": [
            "                        precision    recall  f1-score   support\n",
            "\n",
            "        BACTERIAL SPOT       0.93      0.95      0.94       425\n",
            "          EARLY BLIGHT       0.82      0.88      0.85       480\n",
            "               HEALTHY       0.98      0.94      0.96       481\n",
            "           LATE BLIGHT       0.94      0.85      0.89       463\n",
            "             LEAF MOLD       0.94      0.92      0.93       470\n",
            "    SEPTORIA LEAF SPOT       0.94      0.82      0.88       436\n",
            "           SPIDER MITE       0.90      0.87      0.89       435\n",
            "           TARGET SPOT       0.89      0.77      0.83       457\n",
            "          MOSAIC VIRUS       0.99      0.96      0.97       448\n",
            "YELLOW LEAF CURL VIRUS       0.96      0.95      0.96       490\n",
            "\n",
            "             micro avg       0.93      0.89      0.91      4585\n",
            "             macro avg       0.93      0.89      0.91      4585\n",
            "          weighted avg       0.93      0.89      0.91      4585\n",
            "           samples avg       0.89      0.89      0.89      4585\n",
            "\n"
          ]
        },
        {
          "output_type": "stream",
          "name": "stderr",
          "text": [
            "/usr/local/lib/python3.8/dist-packages/sklearn/metrics/_classification.py:1318: UndefinedMetricWarning: Precision and F-score are ill-defined and being set to 0.0 in samples with no predicted labels. Use `zero_division` parameter to control this behavior.\n",
            "  _warn_prf(average, modifier, msg_start, len(result))\n"
          ]
        }
      ]
    },
    {
      "cell_type": "code",
      "source": [
        "cm=confusion_matrix(one_hot_test.argmax(axis=1), pred_ran.argmax(axis=1))\n",
        "print(cm)\n"
      ],
      "metadata": {
        "colab": {
          "base_uri": "https://localhost:8080/"
        },
        "id": "12NVOdSMX0je",
        "outputId": "bd400092-955c-404b-dbad-1fb388a6545c"
      },
      "execution_count": null,
      "outputs": [
        {
          "output_type": "stream",
          "name": "stdout",
          "text": [
            "[[409   9   0   1   0   0   0   0   0   6]\n",
            " [ 28 422   0  12   4   5   0   5   0   4]\n",
            " [  9   0 453   3   0   0   2  14   0   0]\n",
            " [ 24  36   3 394   2   1   1   0   0   2]\n",
            " [ 12   7   0   4 434  11   2   0   0   0]\n",
            " [ 35  11   1   3  15 358   3   5   3   2]\n",
            " [ 29   5   0   0   3   0 379  16   0   3]\n",
            " [ 53  18   4   0   1   4  24 352   1   0]\n",
            " [  9   1   0   0   1   0   4   4 429   0]\n",
            " [ 11   7   0   3   1   0   4   0   0 464]]\n"
          ]
        }
      ]
    },
    {
      "cell_type": "code",
      "source": [
        "import seaborn as sns\n",
        "fig,ax= plt.subplots(figsize=(10, 10))\n",
        "sns.heatmap(cm, annot=True, fmt='g', ax=ax);  #annot=True to annotate cells, ftm='g' to disable scientific notation\n",
        "\n",
        "# labels, title and ticks\n",
        "ax.set_xlabel('Predicted labels');ax.set_ylabel('True labels'); \n",
        "ax.set_title('Confusion Matrix'); \n",
        "ax.xaxis.set_ticklabels(order,rotation=40,ha='right'); ax.yaxis.set_ticklabels(order,rotation=360,ha='right');"
      ],
      "metadata": {
        "colab": {
          "base_uri": "https://localhost:8080/",
          "height": 703
        },
        "id": "-x4oQj4RX8t2",
        "outputId": "77313f30-4ced-47bc-d71d-0f65e84fec44"
      },
      "execution_count": null,
      "outputs": [
        {
          "output_type": "display_data",
          "data": {
            "text/plain": [
              "<Figure size 720x720 with 2 Axes>"
            ],
            "image/png": "[encoded data removed]"
          },
          "metadata": {
            "needs_background": "light"
          }
        }
      ]
    },
    {
      "cell_type": "code",
      "source": [],
      "metadata": {
        "id": "GLJ1zQGlYSKy"
      },
      "execution_count": null,
      "outputs": []
    }
  ]
}